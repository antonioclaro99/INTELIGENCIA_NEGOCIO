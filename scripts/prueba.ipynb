{
 "cells": [
  {
   "cell_type": "code",
   "execution_count": 2,
   "metadata": {},
   "outputs": [
    {
     "data": {
      "text/plain": [
       "[',fixture_id,date,home_team_id,home_team_name,home_team_img,away_team_id,away_team_name,away_team_img,home_goals,away_goals,home_shots_on_goal,home_shots_off_goal,home_total_shots,home_blocked_shots,home_shots_insidebox,home_shots_outsidebox,home_fouls,home_corner_kicks,home_offsides,home_ball_possession,home_yellow_cards,home_red_cards,home_goalkeeper_saves,home_total_passes,home_passes_accurate,home_passes_percentage,away_shots_on_goal,away_shots_off_goal,away_total_shots,away_blocked_shots,away_shots_insidebox,away_shots_outsidebox,away_fouls,away_corner_kicks,away_offsides,away_ball_possession,away_yellow_cards,away_red_cards,away_goalkeeper_saves,away_total_passes,away_passes_accurate,away_passes_percentage']"
      ]
     },
     "execution_count": 2,
     "metadata": {},
     "output_type": "execute_result"
    }
   ],
   "source": [
    "import pandas as pd\n",
    "\n",
    "df = pd.read_csv(\"../data/matches_csv/matches.csv\",sep=\";\")\n",
    "\n",
    "list(df)"
   ]
  },
  {
   "cell_type": "code",
   "execution_count": 5,
   "metadata": {},
   "outputs": [
    {
     "data": {
      "text/html": [
       "<div>\n",
       "<style scoped>\n",
       "    .dataframe tbody tr th:only-of-type {\n",
       "        vertical-align: middle;\n",
       "    }\n",
       "\n",
       "    .dataframe tbody tr th {\n",
       "        vertical-align: top;\n",
       "    }\n",
       "\n",
       "    .dataframe thead th {\n",
       "        text-align: right;\n",
       "    }\n",
       "</style>\n",
       "<table border=\"1\" class=\"dataframe\">\n",
       "  <thead>\n",
       "    <tr style=\"text-align: right;\">\n",
       "      <th></th>\n",
       "      <th>fixture_id</th>\n",
       "      <th>date</th>\n",
       "      <th>home_team_id</th>\n",
       "      <th>home_team_name</th>\n",
       "      <th>home_team_img</th>\n",
       "      <th>away_team_id</th>\n",
       "      <th>away_team_name</th>\n",
       "      <th>away_team_img</th>\n",
       "      <th>home_goals</th>\n",
       "      <th>away_goals</th>\n",
       "      <th>...</th>\n",
       "      <th>away_fouls</th>\n",
       "      <th>away_corner_kicks</th>\n",
       "      <th>away_offsides</th>\n",
       "      <th>away_ball_possession</th>\n",
       "      <th>away_yellow_cards</th>\n",
       "      <th>away_red_cards</th>\n",
       "      <th>away_goalkeeper_saves</th>\n",
       "      <th>away_total_passes</th>\n",
       "      <th>away_passes_accurate</th>\n",
       "      <th>away_passes_percentage</th>\n",
       "    </tr>\n",
       "  </thead>\n",
       "  <tbody>\n",
       "    <tr>\n",
       "      <th>0</th>\n",
       "      <td>721079</td>\n",
       "      <td>2022-05-07T14:15:00+00:00</td>\n",
       "      <td>531</td>\n",
       "      <td>Athletic Club</td>\n",
       "      <td>https://media-1.api-sports.io/football/teams/5...</td>\n",
       "      <td>532</td>\n",
       "      <td>Valencia</td>\n",
       "      <td>https://media-2.api-sports.io/football/teams/5...</td>\n",
       "      <td>0</td>\n",
       "      <td>0</td>\n",
       "      <td>...</td>\n",
       "      <td>22</td>\n",
       "      <td>2</td>\n",
       "      <td>None</td>\n",
       "      <td>41%</td>\n",
       "      <td>4</td>\n",
       "      <td>1</td>\n",
       "      <td>5</td>\n",
       "      <td>321</td>\n",
       "      <td>215</td>\n",
       "      <td>67%</td>\n",
       "    </tr>\n",
       "  </tbody>\n",
       "</table>\n",
       "<p>1 rows × 42 columns</p>\n",
       "</div>"
      ],
      "text/plain": [
       "   fixture_id                       date  home_team_id home_team_name  \\\n",
       "0      721079  2022-05-07T14:15:00+00:00           531  Athletic Club   \n",
       "\n",
       "                                       home_team_img  away_team_id  \\\n",
       "0  https://media-1.api-sports.io/football/teams/5...           532   \n",
       "\n",
       "  away_team_name                                      away_team_img  \\\n",
       "0       Valencia  https://media-2.api-sports.io/football/teams/5...   \n",
       "\n",
       "   home_goals  away_goals  ...  away_fouls  away_corner_kicks  away_offsides  \\\n",
       "0           0           0  ...          22                  2           None   \n",
       "\n",
       "  away_ball_possession  away_yellow_cards  away_red_cards  \\\n",
       "0                  41%                  4               1   \n",
       "\n",
       "   away_goalkeeper_saves  away_total_passes  away_passes_accurate  \\\n",
       "0                      5                321                   215   \n",
       "\n",
       "  away_passes_percentage  \n",
       "0                    67%  \n",
       "\n",
       "[1 rows x 42 columns]"
      ]
     },
     "execution_count": 5,
     "metadata": {},
     "output_type": "execute_result"
    }
   ],
   "source": [
    "import json\n",
    "with open(\"../data/matches/721079.json\", 'r') as f:\n",
    "    fixture_json = json.load(f)\n",
    "    df_fixture = pd.read_csv(\"../data/matches_csv/matches_template.csv\",sep=\";\")\n",
    "    df_fixture[\"fixture_id\"] = fixture_json[\"response\"][0][\"fixture\"][\"id\"]\n",
    "    df_fixture[\"date\"] = fixture_json[\"response\"][0][\"fixture\"][\"date\"]\n",
    "    df_fixture[\"home_team_id\"] = fixture_json[\"response\"][0][\"teams\"][\"home\"][\"id\"]\n",
    "    df_fixture[\"home_team_name\"] = fixture_json[\"response\"][0][\"teams\"][\"home\"][\"name\"]\n",
    "    df_fixture[\"home_team_img\"] = fixture_json[\"response\"][0][\"teams\"][\"home\"][\"logo\"]\n",
    "    df_fixture[\"away_team_id\"] = fixture_json[\"response\"][0][\"teams\"][\"away\"][\"id\"]\n",
    "    df_fixture[\"away_team_name\"] = fixture_json[\"response\"][0][\"teams\"][\"away\"][\"name\"]\n",
    "    df_fixture[\"away_team_img\"] = fixture_json[\"response\"][0][\"teams\"][\"away\"][\"logo\"]\n",
    "    \n",
    "    \n",
    "    \n",
    "    df_fixture[\"home_goals\"] = fixture_json[\"response\"][0][\"goals\"][\"home\"]\n",
    "    df_fixture[\"away_goals\"] = fixture_json[\"response\"][0][\"goals\"][\"away\"]\n",
    "    \n",
    "    statistics_matrix = [list(df_fixture)[10:26],list(df_fixture)[26:]]\n",
    "    \n",
    "    for i,statistics in enumerate(statistics_matrix):\n",
    "        for j,statistic in enumerate(statistics):\n",
    "            try:\n",
    "                df_fixture[statistic] = fixture_json[\"response\"][0][\"statistics\"][i][\"statistics\"][j][\"value\"]\n",
    "            except:\n",
    "                df_fixture[statistic] = None\n",
    "        \n",
    "        \n",
    "        \n",
    "    \n",
    "    # print(statistics)\n",
    "    \n",
    "    \n",
    "    # df_fixture[\"home_shots_on_goal\"] = fixture_json[\"response\"][0][\"statistics\"][0][\"statistics\"][0][\"value\"]\n",
    "    # df_fixture[\"home_shots_off_goal\"] = fixture_json[\"response\"][0][\"statistics\"][0][\"statistics\"][1][\"value\"]\n",
    "    # df_fixture[\"home_total_shots\"] = fixture_json[\"response\"][0][\"statistics\"][0][\"statistics\"][2][\"value\"]\n",
    "    # df_fixture[\"home_blocked_shots\"] = fixture_json[\"response\"][0][\"statistics\"][0][\"statistics\"][3][\"value\"]\n",
    "    # df_fixture[\"home_shots_insidebox\"] = fixture_json[\"response\"][0][\"statistics\"][0][\"statistics\"][4][\"value\"]\n",
    "    # df_fixture[\"home_shots_outsidebox\"] = fixture_json[\"response\"][0][\"statistics\"][0][\"statistics\"][5][\"value\"]\n",
    "    # df_fixture[\"home_fouls\"] = fixture_json[\"response\"][0][\"statistics\"][0][\"statistics\"][6][\"value\"]\n",
    "    # df_fixture[\"home_corner_kicks\"] = fixture_json[\"response\"][0][\"statistics\"][0][\"statistics\"][7][\"value\"]\n",
    "    # df_fixture[\"home_offsides\"] = fixture_json[\"response\"][0][\"statistics\"][0][\"statistics\"][8][\"value\"]\n",
    "    # df_fixture[\"home_ball_possession\"] = fixture_json[\"response\"][0][\"statistics\"][0][\"statistics\"][9][\"value\"]\n",
    "    # df_fixture[\"home_yellow_cards\"] = fixture_json[\"response\"][0][\"statistics\"][0][\"statistics\"][10][\"value\"]\n",
    "    # df_fixture[\"home_red_cards\"] = fixture_json[\"response\"][0][\"statistics\"][0][\"statistics\"][11][\"value\"]\n",
    "    # df_fixture[\"home_goalkeeper_saves\"] = fixture_json[\"response\"][0][\"statistics\"][0][\"statistics\"][12][\"value\"]\n",
    "    # df_fixture[\"home_total_passes\"] = fixture_json[\"response\"][0][\"statistics\"][0][\"statistics\"][13][\"value\"]\n",
    "    # df_fixture[\"home_passes_accurate\"] = fixture_json[\"response\"][0][\"statistics\"][0][\"statistics\"][14][\"value\"]\n",
    "    # df_fixture[\"home_passes_percentage\"] = fixture_json[\"response\"][0][\"statistics\"][0][\"statistics\"][15][\"value\"]\n",
    "    \n",
    "    # df_fixture[\"away_shots_on_goal\"] = fixture_json[\"response\"][0][\"statistics\"][1][\"statistics\"][0][\"value\"]\n",
    "    # df_fixture[\"away_shots_off_goal\"] = fixture_json[\"response\"][0][\"statistics\"][1][\"statistics\"][1][\"value\"]\n",
    "    # df_fixture[\"away_total_shots\"] = fixture_json[\"response\"][0][\"statistics\"][1][\"statistics\"][2][\"value\"]\n",
    "    # df_fixture[\"away_blocked_shots\"] = fixture_json[\"response\"][0][\"statistics\"][1][\"statistics\"][3][\"value\"]\n",
    "    # df_fixture[\"away_shots_insidebox\"] = fixture_json[\"response\"][0][\"statistics\"][1][\"statistics\"][4][\"value\"]\n",
    "    # df_fixture[\"away_shots_outsidebox\"] = fixture_json[\"response\"][0][\"statistics\"][1][\"statistics\"][5][\"value\"]\n",
    "    # df_fixture[\"away_fouls\"] = fixture_json[\"response\"][0][\"statistics\"][1][\"statistics\"][6][\"value\"]\n",
    "    # df_fixture[\"away_corner_kicks\"] = fixture_json[\"response\"][0][\"statistics\"][1][\"statistics\"][7][\"value\"]\n",
    "    # df_fixture[\"away_offsides\"] = fixture_json[\"response\"][0][\"statistics\"][1][\"statistics\"][8][\"value\"]\n",
    "    # df_fixture[\"away_ball_possession\"] = fixture_json[\"response\"][0][\"statistics\"][1][\"statistics\"][9][\"value\"]\n",
    "    # df_fixture[\"away_yellow_cards\"] = fixture_json[\"response\"][0][\"statistics\"][1][\"statistics\"][10][\"value\"]\n",
    "    # df_fixture[\"away_red_cards\"] = fixture_json[\"response\"][0][\"statistics\"][1][\"statistics\"][11][\"value\"]\n",
    "    # df_fixture[\"away_goalkeeper_saves\"] = fixture_json[\"response\"][0][\"statistics\"][1][\"statistics\"][12][\"value\"]\n",
    "    # df_fixture[\"away_total_passes\"] = fixture_json[\"response\"][0][\"statistics\"][1][\"statistics\"][13][\"value\"]\n",
    "    # df_fixture[\"away_passes_accurate\"] = fixture_json[\"response\"][0][\"statistics\"][1][\"statistics\"][14][\"value\"]\n",
    "    # df_fixture[\"away_passes_percentage\"] = fixture_json[\"response\"][0][\"statistics\"][1][\"statistics\"][15][\"value\"]\n",
    "    \n",
    "df_fixture\n",
    "\n",
    "    \n",
    "# df = pd.concat([df,df_fixture])\n",
    "\n",
    "# df.to_csv(\"../data/matches_csv/matches.csv\")"
   ]
  },
  {
   "cell_type": "code",
   "execution_count": 3,
   "metadata": {},
   "outputs": [],
   "source": [
    "import json\n",
    "with open('../config.json', 'r') as f:\n",
    "    config = json.load(f)"
   ]
  },
  {
   "cell_type": "code",
   "execution_count": 7,
   "metadata": {},
   "outputs": [
    {
     "name": "stdout",
     "output_type": "stream",
     "text": [
      "111\n"
     ]
    }
   ],
   "source": [
    "print(config[\"fixtures_ids\"].index(205348))"
   ]
  },
  {
   "cell_type": "code",
   "execution_count": 7,
   "metadata": {},
   "outputs": [
    {
     "data": {
      "text/plain": [
       "[1, 2, 2, 4, 9]"
      ]
     },
     "execution_count": 7,
     "metadata": {},
     "output_type": "execute_result"
    }
   ],
   "source": [
    "fallidos = [1]\n",
    "obtenidos = [1, 3, 5, 6, 7, 8]\n",
    "todos = [1, 2, 3, 4, 5, 6, 7, 8, 9]\n",
    "\n",
    "volver_a_sacar_1 = [id for id in fallidos]\n",
    "\n",
    "volver_a_sacar_2 = [id for id in todos if id not in obtenidos]\n",
    "\n",
    "\n",
    "volver_a_sacar_1.extend(volver_a_sacar_2)\n",
    "\n",
    "volver_a_sacar_1"
   ]
  }
 ],
 "metadata": {
  "kernelspec": {
   "display_name": "Python 3",
   "language": "python",
   "name": "python3"
  },
  "language_info": {
   "codemirror_mode": {
    "name": "ipython",
    "version": 3
   },
   "file_extension": ".py",
   "mimetype": "text/x-python",
   "name": "python",
   "nbconvert_exporter": "python",
   "pygments_lexer": "ipython3",
   "version": "3.8.10"
  },
  "orig_nbformat": 4,
  "vscode": {
   "interpreter": {
    "hash": "916dbcbb3f70747c44a77c7bcd40155683ae19c65e1c03b4aa3499c5328201f1"
   }
  }
 },
 "nbformat": 4,
 "nbformat_minor": 2
}
